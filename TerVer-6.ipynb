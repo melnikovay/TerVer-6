{
 "cells": [
  {
   "cell_type": "markdown",
   "metadata": {},
   "source": [
    "Задача 1\n",
    "\n",
    "Даны значения величины заработной платы заемщиков банка (salary) и значения их поведенческого кредитного скоринга (scoring):\n",
    "\n",
    "salary = [35, 45, 190, 200, 40, 70, 54, 150, 120, 110]\n",
    "scoring = [401, 574, 874, 919, 459, 739, 653, 902, 746, 832]\n",
    "\n",
    "Без использования сторонних библиотек (вроде numpy, pandas и др.) найдите:\n",
    "1. ковариацию (смещённую и несмещённую) этих двух величин,\n",
    "2. коэффициент корреляции Пирсона.\n",
    "\n",
    "Можно затем посчитать те же значения с использованием библиотек, чтобы проверить себя."
   ]
  },
  {
   "cell_type": "code",
   "execution_count": 12,
   "metadata": {},
   "outputs": [
    {
     "name": "stdout",
     "output_type": "stream",
     "text": [
      "101.4 709.9\n"
     ]
    }
   ],
   "source": [
    "import numpy as np\n",
    "salary = [35, 45, 190, 200, 40, 70, 54, 150, 120, 110]\n",
    "scoring = [401, 574, 874, 919, 459, 739, 653, 902, 746, 832]\n",
    "n=len(salary)\n",
    "SummX =0\n",
    "SummY=0\n",
    "for i in range (0,n):\n",
    "    x = salary[i]\n",
    "    y = scoring[i]\n",
    "    SummX=SummX+x\n",
    "    SummY=SummY+y\n",
    "\n",
    "Xsr = SummX/n\n",
    "Ysr = SummY/n\n",
    "print(Xsr,Ysr)"
   ]
  },
  {
   "cell_type": "code",
   "execution_count": 13,
   "metadata": {},
   "outputs": [
    {
     "name": "stdout",
     "output_type": "stream",
     "text": [
      "Cмещенная ковариация 9157.84\n"
     ]
    }
   ],
   "source": [
    "SumR=0\n",
    "SumRx2=0\n",
    "SumRy2=0\n",
    "for i in range (0,n):\n",
    "    x = salary[i]\n",
    "    y = scoring[i]\n",
    "    Rx = x-Xsr\n",
    "    Ry = y-Ysr\n",
    "    Rxy=Rx*Ry\n",
    "    Rx2=Rx*Rx\n",
    "    Ry2=Ry*Ry\n",
    "    SumR = SumR+Rxy\n",
    "    SumRx2=SumRx2+Rx2\n",
    "    SumRy2=SumRy2+Ry2\n",
    "Cov = 1/n *SumR\n",
    "print('Cмещенная ковариация',Cov)"
   ]
  },
  {
   "cell_type": "code",
   "execution_count": 14,
   "metadata": {},
   "outputs": [
    {
     "name": "stdout",
     "output_type": "stream",
     "text": [
      "Несмещенная ковариация 10175.377777777776\n"
     ]
    }
   ],
   "source": [
    "Cov_n = 1/(n-1)*SumR\n",
    "print('Несмещенная ковариация', Cov_n)"
   ]
  },
  {
   "cell_type": "code",
   "execution_count": 16,
   "metadata": {},
   "outputs": [
    {
     "name": "stdout",
     "output_type": "stream",
     "text": [
      "коэффициент корреляции Пирсона 0.8874900920739162\n"
     ]
    }
   ],
   "source": [
    "rxy=SumR/(np.sqrt(SumRx2*SumRy2))\n",
    "print('коэффициент корреляции Пирсона',rxy)"
   ]
  },
  {
   "cell_type": "code",
   "execution_count": 7,
   "metadata": {},
   "outputs": [
    {
     "data": {
      "text/plain": [
       "array([[ 3882.93333333, 10175.37777778],\n",
       "       [10175.37777778, 33854.32222222]])"
      ]
     },
     "execution_count": 7,
     "metadata": {},
     "output_type": "execute_result"
    }
   ],
   "source": [
    "\n",
    "cov1 = np.cov(salary,scoring)\n",
    "cov1"
   ]
  },
  {
   "cell_type": "markdown",
   "metadata": {},
   "source": [
    "Задача 2\n",
    "\n",
    "Измерены значения IQ выборки студентов, обучающихся в местных технических вузах:\n",
    "\n",
    "131, 125, 115, 122, 131, 115, 107, 99, 125, 111\n",
    "\n",
    "Известно, что в генеральной совокупности IQ распределен нормально. Найдите доверительный интервал для математического ожидания с надежностью 0.95.\n"
   ]
  },
  {
   "cell_type": "code",
   "execution_count": 24,
   "metadata": {},
   "outputs": [
    {
     "name": "stdout",
     "output_type": "stream",
     "text": [
      "10.54566788359614\n"
     ]
    },
    {
     "data": {
      "text/plain": [
       "2.2621571627409915"
      ]
     },
     "execution_count": 24,
     "metadata": {},
     "output_type": "execute_result"
    }
   ],
   "source": [
    "from scipy import stats \n",
    "IQ=np.array([131, 125, 115, 122, 131, 115, 107, 99, 125, 111])\n",
    "n=len(IQ)\n",
    "alfa = 1-0.95\n",
    "IQsr=np.mean(IQ)\n",
    "std= IQ.std(ddof=1)\n",
    "print(std)\n",
    "t=stats.t.ppf(1-alfa/2,df=n-1)\n",
    "t"
   ]
  },
  {
   "cell_type": "code",
   "execution_count": 25,
   "metadata": {},
   "outputs": [
    {
     "data": {
      "text/plain": [
       "(110.55608365158724, 125.64391634841274)"
      ]
     },
     "execution_count": 25,
     "metadata": {},
     "output_type": "execute_result"
    }
   ],
   "source": [
    "(IQsr-t*std/np.sqrt(n), IQsr+t*std/np.sqrt(n))"
   ]
  },
  {
   "cell_type": "markdown",
   "metadata": {},
   "source": [
    "Задача 3\n",
    "\n",
    "Известно, что рост футболистов в сборной распределён нормально с известной дисперсией 25. На выборке объёма 27 выборочное среднее составило 174.2. Найдите доверительный интервал для математического ожидания с надёжностью 0.95."
   ]
  },
  {
   "cell_type": "code",
   "execution_count": 27,
   "metadata": {},
   "outputs": [
    {
     "data": {
      "text/plain": [
       "1.959963984540054"
      ]
     },
     "execution_count": 27,
     "metadata": {},
     "output_type": "execute_result"
    }
   ],
   "source": [
    "n = 27\n",
    "Xsr =174.2\n",
    "d=25\n",
    "sigma = np.sqrt(d)\n",
    "alfa = (1-0.95)\n",
    "t=stats.norm.ppf(1-alfa/2)\n",
    "t\n"
   ]
  },
  {
   "cell_type": "code",
   "execution_count": 28,
   "metadata": {},
   "outputs": [
    {
     "data": {
      "text/plain": [
       "(172.3140237765397, 176.08597622346028)"
      ]
     },
     "execution_count": 28,
     "metadata": {},
     "output_type": "execute_result"
    }
   ],
   "source": [
    "(Xsr-t*sigma/np.sqrt(n),Xsr+t*sigma/np.sqrt(n))"
   ]
  },
  {
   "cell_type": "markdown",
   "metadata": {},
   "source": [
    "Задача 4\n",
    "\n",
    "Выберите тему для проектной работы по курсу Теории вероятностей и математической статистики и напишите ее в комментарии к Практическому заданию."
   ]
  },
  {
   "cell_type": "code",
   "execution_count": null,
   "metadata": {},
   "outputs": [],
   "source": []
  }
 ],
 "metadata": {
  "kernelspec": {
   "display_name": "Python 3",
   "language": "python",
   "name": "python3"
  },
  "language_info": {
   "codemirror_mode": {
    "name": "ipython",
    "version": 3
   },
   "file_extension": ".py",
   "mimetype": "text/x-python",
   "name": "python",
   "nbconvert_exporter": "python",
   "pygments_lexer": "ipython3",
   "version": "3.7.3"
  }
 },
 "nbformat": 4,
 "nbformat_minor": 2
}
